{
 "cells": [
  {
   "cell_type": "markdown",
   "id": "dcaa1aba",
   "metadata": {},
   "source": [
    "## House Price of India project\n",
    "## Часть 3: Гипотезы. Машинное обучение."
   ]
  },
  {
   "cell_type": "code",
   "execution_count": 313,
   "id": "901e35c0",
   "metadata": {},
   "outputs": [],
   "source": [
    "import numpy as np\n",
    "import pandas as pd\n",
    "import seaborn as sns\n",
    "import matplotlib.pyplot as plt\n",
    "\n",
    "from scipy import stats as sts\n",
    "\n",
    "from sklearn.model_selection import train_test_split\n",
    "from sklearn.linear_model import LinearRegression\n",
    "from sklearn.tree import DecisionTreeRegressor\n",
    "from xgboost import XGBRFRegressor, XGBRegressor\n",
    "from sklearn.metrics import mean_squared_error, mean_absolute_error, mean_absolute_percentage_error, r2_score\n",
    "\n",
    "import warnings\n",
    "warnings.filterwarnings('ignore')"
   ]
  },
  {
   "cell_type": "markdown",
   "id": "d7f93b94",
   "metadata": {},
   "source": [
    "*В прошлой серии...* мы удалили выбросы и ошибочные данные и получили следующее:"
   ]
  },
  {
   "cell_type": "code",
   "execution_count": 314,
   "id": "deb35710",
   "metadata": {},
   "outputs": [],
   "source": [
    "df = pd.read_csv('my_data2.csv')"
   ]
  },
  {
   "cell_type": "code",
   "execution_count": 315,
   "id": "b7b07192",
   "metadata": {},
   "outputs": [
    {
     "data": {
      "text/html": [
       "<div>\n",
       "<style scoped>\n",
       "    .dataframe tbody tr th:only-of-type {\n",
       "        vertical-align: middle;\n",
       "    }\n",
       "\n",
       "    .dataframe tbody tr th {\n",
       "        vertical-align: top;\n",
       "    }\n",
       "\n",
       "    .dataframe thead th {\n",
       "        text-align: right;\n",
       "    }\n",
       "</style>\n",
       "<table border=\"1\" class=\"dataframe\">\n",
       "  <thead>\n",
       "    <tr style=\"text-align: right;\">\n",
       "      <th></th>\n",
       "      <th>Number of bedrooms</th>\n",
       "      <th>Number of bathrooms</th>\n",
       "      <th>Living area</th>\n",
       "      <th>Lot area</th>\n",
       "      <th>Average Room Size</th>\n",
       "      <th>Floor Area Ratio</th>\n",
       "      <th>Number of floors</th>\n",
       "      <th>Waterfront present</th>\n",
       "      <th>Average views number</th>\n",
       "      <th>Condition of the house</th>\n",
       "      <th>Built Year</th>\n",
       "      <th>House Age</th>\n",
       "      <th>Renovation Year</th>\n",
       "      <th>Was Renovated</th>\n",
       "      <th>Postal Code</th>\n",
       "      <th>Number of schools nearby</th>\n",
       "      <th>Distance from the airport</th>\n",
       "      <th>Price</th>\n",
       "    </tr>\n",
       "  </thead>\n",
       "  <tbody>\n",
       "    <tr>\n",
       "      <th>0</th>\n",
       "      <td>4</td>\n",
       "      <td>3</td>\n",
       "      <td>2920</td>\n",
       "      <td>4000</td>\n",
       "      <td>730</td>\n",
       "      <td>0.73</td>\n",
       "      <td>1.5</td>\n",
       "      <td>0</td>\n",
       "      <td>0</td>\n",
       "      <td>5</td>\n",
       "      <td>1909</td>\n",
       "      <td>114</td>\n",
       "      <td>1909</td>\n",
       "      <td>No</td>\n",
       "      <td>122004</td>\n",
       "      <td>2</td>\n",
       "      <td>51</td>\n",
       "      <td>1400000</td>\n",
       "    </tr>\n",
       "    <tr>\n",
       "      <th>1</th>\n",
       "      <td>5</td>\n",
       "      <td>3</td>\n",
       "      <td>2910</td>\n",
       "      <td>9480</td>\n",
       "      <td>582</td>\n",
       "      <td>0.31</td>\n",
       "      <td>1.5</td>\n",
       "      <td>0</td>\n",
       "      <td>0</td>\n",
       "      <td>3</td>\n",
       "      <td>1939</td>\n",
       "      <td>84</td>\n",
       "      <td>1939</td>\n",
       "      <td>No</td>\n",
       "      <td>122004</td>\n",
       "      <td>1</td>\n",
       "      <td>53</td>\n",
       "      <td>1200000</td>\n",
       "    </tr>\n",
       "    <tr>\n",
       "      <th>2</th>\n",
       "      <td>3</td>\n",
       "      <td>2</td>\n",
       "      <td>2710</td>\n",
       "      <td>4500</td>\n",
       "      <td>903</td>\n",
       "      <td>0.60</td>\n",
       "      <td>1.5</td>\n",
       "      <td>0</td>\n",
       "      <td>0</td>\n",
       "      <td>4</td>\n",
       "      <td>1929</td>\n",
       "      <td>94</td>\n",
       "      <td>1929</td>\n",
       "      <td>No</td>\n",
       "      <td>122006</td>\n",
       "      <td>1</td>\n",
       "      <td>51</td>\n",
       "      <td>805000</td>\n",
       "    </tr>\n",
       "    <tr>\n",
       "      <th>3</th>\n",
       "      <td>3</td>\n",
       "      <td>3</td>\n",
       "      <td>2600</td>\n",
       "      <td>4750</td>\n",
       "      <td>866</td>\n",
       "      <td>0.55</td>\n",
       "      <td>1.0</td>\n",
       "      <td>0</td>\n",
       "      <td>0</td>\n",
       "      <td>4</td>\n",
       "      <td>1951</td>\n",
       "      <td>72</td>\n",
       "      <td>1951</td>\n",
       "      <td>No</td>\n",
       "      <td>122007</td>\n",
       "      <td>1</td>\n",
       "      <td>67</td>\n",
       "      <td>790000</td>\n",
       "    </tr>\n",
       "    <tr>\n",
       "      <th>4</th>\n",
       "      <td>5</td>\n",
       "      <td>4</td>\n",
       "      <td>3660</td>\n",
       "      <td>11995</td>\n",
       "      <td>732</td>\n",
       "      <td>0.31</td>\n",
       "      <td>2.0</td>\n",
       "      <td>0</td>\n",
       "      <td>2</td>\n",
       "      <td>3</td>\n",
       "      <td>2006</td>\n",
       "      <td>17</td>\n",
       "      <td>2006</td>\n",
       "      <td>No</td>\n",
       "      <td>122008</td>\n",
       "      <td>3</td>\n",
       "      <td>72</td>\n",
       "      <td>785000</td>\n",
       "    </tr>\n",
       "    <tr>\n",
       "      <th>...</th>\n",
       "      <td>...</td>\n",
       "      <td>...</td>\n",
       "      <td>...</td>\n",
       "      <td>...</td>\n",
       "      <td>...</td>\n",
       "      <td>...</td>\n",
       "      <td>...</td>\n",
       "      <td>...</td>\n",
       "      <td>...</td>\n",
       "      <td>...</td>\n",
       "      <td>...</td>\n",
       "      <td>...</td>\n",
       "      <td>...</td>\n",
       "      <td>...</td>\n",
       "      <td>...</td>\n",
       "      <td>...</td>\n",
       "      <td>...</td>\n",
       "      <td>...</td>\n",
       "    </tr>\n",
       "    <tr>\n",
       "      <th>12587</th>\n",
       "      <td>2</td>\n",
       "      <td>2</td>\n",
       "      <td>1556</td>\n",
       "      <td>20000</td>\n",
       "      <td>778</td>\n",
       "      <td>0.08</td>\n",
       "      <td>1.0</td>\n",
       "      <td>0</td>\n",
       "      <td>0</td>\n",
       "      <td>4</td>\n",
       "      <td>1957</td>\n",
       "      <td>66</td>\n",
       "      <td>1957</td>\n",
       "      <td>No</td>\n",
       "      <td>122066</td>\n",
       "      <td>3</td>\n",
       "      <td>76</td>\n",
       "      <td>221700</td>\n",
       "    </tr>\n",
       "    <tr>\n",
       "      <th>12588</th>\n",
       "      <td>3</td>\n",
       "      <td>2</td>\n",
       "      <td>1680</td>\n",
       "      <td>7000</td>\n",
       "      <td>560</td>\n",
       "      <td>0.24</td>\n",
       "      <td>1.5</td>\n",
       "      <td>0</td>\n",
       "      <td>0</td>\n",
       "      <td>4</td>\n",
       "      <td>1968</td>\n",
       "      <td>55</td>\n",
       "      <td>1968</td>\n",
       "      <td>No</td>\n",
       "      <td>122072</td>\n",
       "      <td>3</td>\n",
       "      <td>59</td>\n",
       "      <td>219200</td>\n",
       "    </tr>\n",
       "    <tr>\n",
       "      <th>12589</th>\n",
       "      <td>2</td>\n",
       "      <td>1</td>\n",
       "      <td>1070</td>\n",
       "      <td>6120</td>\n",
       "      <td>535</td>\n",
       "      <td>0.17</td>\n",
       "      <td>1.0</td>\n",
       "      <td>0</td>\n",
       "      <td>0</td>\n",
       "      <td>3</td>\n",
       "      <td>1962</td>\n",
       "      <td>61</td>\n",
       "      <td>1962</td>\n",
       "      <td>No</td>\n",
       "      <td>122056</td>\n",
       "      <td>2</td>\n",
       "      <td>64</td>\n",
       "      <td>209000</td>\n",
       "    </tr>\n",
       "    <tr>\n",
       "      <th>12590</th>\n",
       "      <td>4</td>\n",
       "      <td>1</td>\n",
       "      <td>1030</td>\n",
       "      <td>6621</td>\n",
       "      <td>257</td>\n",
       "      <td>0.16</td>\n",
       "      <td>1.0</td>\n",
       "      <td>0</td>\n",
       "      <td>0</td>\n",
       "      <td>4</td>\n",
       "      <td>1955</td>\n",
       "      <td>68</td>\n",
       "      <td>1955</td>\n",
       "      <td>No</td>\n",
       "      <td>122042</td>\n",
       "      <td>3</td>\n",
       "      <td>54</td>\n",
       "      <td>205000</td>\n",
       "    </tr>\n",
       "    <tr>\n",
       "      <th>12591</th>\n",
       "      <td>3</td>\n",
       "      <td>1</td>\n",
       "      <td>900</td>\n",
       "      <td>4770</td>\n",
       "      <td>300</td>\n",
       "      <td>0.19</td>\n",
       "      <td>1.0</td>\n",
       "      <td>0</td>\n",
       "      <td>0</td>\n",
       "      <td>3</td>\n",
       "      <td>1969</td>\n",
       "      <td>54</td>\n",
       "      <td>2009</td>\n",
       "      <td>Yes</td>\n",
       "      <td>122018</td>\n",
       "      <td>2</td>\n",
       "      <td>55</td>\n",
       "      <td>146000</td>\n",
       "    </tr>\n",
       "  </tbody>\n",
       "</table>\n",
       "<p>12592 rows × 18 columns</p>\n",
       "</div>"
      ],
      "text/plain": [
       "       Number of bedrooms  Number of bathrooms  Living area  Lot area  \\\n",
       "0                       4                    3         2920      4000   \n",
       "1                       5                    3         2910      9480   \n",
       "2                       3                    2         2710      4500   \n",
       "3                       3                    3         2600      4750   \n",
       "4                       5                    4         3660     11995   \n",
       "...                   ...                  ...          ...       ...   \n",
       "12587                   2                    2         1556     20000   \n",
       "12588                   3                    2         1680      7000   \n",
       "12589                   2                    1         1070      6120   \n",
       "12590                   4                    1         1030      6621   \n",
       "12591                   3                    1          900      4770   \n",
       "\n",
       "       Average Room Size  Floor Area Ratio  Number of floors  \\\n",
       "0                    730              0.73               1.5   \n",
       "1                    582              0.31               1.5   \n",
       "2                    903              0.60               1.5   \n",
       "3                    866              0.55               1.0   \n",
       "4                    732              0.31               2.0   \n",
       "...                  ...               ...               ...   \n",
       "12587                778              0.08               1.0   \n",
       "12588                560              0.24               1.5   \n",
       "12589                535              0.17               1.0   \n",
       "12590                257              0.16               1.0   \n",
       "12591                300              0.19               1.0   \n",
       "\n",
       "       Waterfront present  Average views number  Condition of the house  \\\n",
       "0                       0                     0                       5   \n",
       "1                       0                     0                       3   \n",
       "2                       0                     0                       4   \n",
       "3                       0                     0                       4   \n",
       "4                       0                     2                       3   \n",
       "...                   ...                   ...                     ...   \n",
       "12587                   0                     0                       4   \n",
       "12588                   0                     0                       4   \n",
       "12589                   0                     0                       3   \n",
       "12590                   0                     0                       4   \n",
       "12591                   0                     0                       3   \n",
       "\n",
       "       Built Year  House Age  Renovation Year Was Renovated  Postal Code  \\\n",
       "0            1909        114             1909            No       122004   \n",
       "1            1939         84             1939            No       122004   \n",
       "2            1929         94             1929            No       122006   \n",
       "3            1951         72             1951            No       122007   \n",
       "4            2006         17             2006            No       122008   \n",
       "...           ...        ...              ...           ...          ...   \n",
       "12587        1957         66             1957            No       122066   \n",
       "12588        1968         55             1968            No       122072   \n",
       "12589        1962         61             1962            No       122056   \n",
       "12590        1955         68             1955            No       122042   \n",
       "12591        1969         54             2009           Yes       122018   \n",
       "\n",
       "       Number of schools nearby  Distance from the airport    Price  \n",
       "0                             2                         51  1400000  \n",
       "1                             1                         53  1200000  \n",
       "2                             1                         51   805000  \n",
       "3                             1                         67   790000  \n",
       "4                             3                         72   785000  \n",
       "...                         ...                        ...      ...  \n",
       "12587                         3                         76   221700  \n",
       "12588                         3                         59   219200  \n",
       "12589                         2                         64   209000  \n",
       "12590                         3                         54   205000  \n",
       "12591                         2                         55   146000  \n",
       "\n",
       "[12592 rows x 18 columns]"
      ]
     },
     "execution_count": 315,
     "metadata": {},
     "output_type": "execute_result"
    }
   ],
   "source": [
    "df"
   ]
  },
  {
   "cell_type": "markdown",
   "id": "96870684",
   "metadata": {},
   "source": [
    "А также сделали главные выводы, от чего зависит цена дома."
   ]
  },
  {
   "cell_type": "markdown",
   "id": "6b56bb18",
   "metadata": {},
   "source": [
    "Больше всего на цену влияют такие параметры, как:\n",
    "\n",
    "- Жилая площадь - положительная корреляция, чем больше жилая площадь, тем выше рыночная цена дома.\n",
    "- Количество ванных комнат - положительная корреляция, чем больше ванных комнат, тем выше рыночная цена дома (при этом у количества ванных и жилой площади тоже очень высокая положительная корреляция, а как мы помним, ванные комнаты к жилой площади не относятся).\n",
    "- Количество спален - положительная корреляция, чем больше спальных комнат, тем выше рыночная цена дома (при этом важно помнить факт, что спальни прямо коррелируют с жилой площадью, но к жилой площади также относятся и другие комнаты).\n",
    "- Оценка состояния дома - положительная корреляция, чем выше оценка, тем выше рыночная цена дома."
   ]
  },
  {
   "cell_type": "markdown",
   "id": "d93953ff",
   "metadata": {},
   "source": [
    "Однако проверить бы хотелось другие интересные гипотезы. Но перед началом добавим новый признак нашему датасету:"
   ]
  },
  {
   "cell_type": "code",
   "execution_count": 316,
   "id": "00ca85bb",
   "metadata": {},
   "outputs": [],
   "source": [
    "df['Price for 1 sq.foot'] = df['Price'] / df['Living area']\n",
    "df['Price for 1 sq.foot'] = df['Price for 1 sq.foot'].astype(int)"
   ]
  },
  {
   "cell_type": "code",
   "execution_count": 317,
   "id": "d9193d24",
   "metadata": {},
   "outputs": [
    {
     "data": {
      "text/html": [
       "<div>\n",
       "<style scoped>\n",
       "    .dataframe tbody tr th:only-of-type {\n",
       "        vertical-align: middle;\n",
       "    }\n",
       "\n",
       "    .dataframe tbody tr th {\n",
       "        vertical-align: top;\n",
       "    }\n",
       "\n",
       "    .dataframe thead th {\n",
       "        text-align: right;\n",
       "    }\n",
       "</style>\n",
       "<table border=\"1\" class=\"dataframe\">\n",
       "  <thead>\n",
       "    <tr style=\"text-align: right;\">\n",
       "      <th></th>\n",
       "      <th>Number of bedrooms</th>\n",
       "      <th>Number of bathrooms</th>\n",
       "      <th>Living area</th>\n",
       "      <th>Lot area</th>\n",
       "      <th>Average Room Size</th>\n",
       "      <th>Floor Area Ratio</th>\n",
       "      <th>Number of floors</th>\n",
       "      <th>Waterfront present</th>\n",
       "      <th>Average views number</th>\n",
       "      <th>Condition of the house</th>\n",
       "      <th>Built Year</th>\n",
       "      <th>House Age</th>\n",
       "      <th>Renovation Year</th>\n",
       "      <th>Was Renovated</th>\n",
       "      <th>Postal Code</th>\n",
       "      <th>Number of schools nearby</th>\n",
       "      <th>Distance from the airport</th>\n",
       "      <th>Price</th>\n",
       "      <th>Price for 1 sq.foot</th>\n",
       "    </tr>\n",
       "  </thead>\n",
       "  <tbody>\n",
       "    <tr>\n",
       "      <th>0</th>\n",
       "      <td>4</td>\n",
       "      <td>3</td>\n",
       "      <td>2920</td>\n",
       "      <td>4000</td>\n",
       "      <td>730</td>\n",
       "      <td>0.73</td>\n",
       "      <td>1.5</td>\n",
       "      <td>0</td>\n",
       "      <td>0</td>\n",
       "      <td>5</td>\n",
       "      <td>1909</td>\n",
       "      <td>114</td>\n",
       "      <td>1909</td>\n",
       "      <td>No</td>\n",
       "      <td>122004</td>\n",
       "      <td>2</td>\n",
       "      <td>51</td>\n",
       "      <td>1400000</td>\n",
       "      <td>479</td>\n",
       "    </tr>\n",
       "    <tr>\n",
       "      <th>1</th>\n",
       "      <td>5</td>\n",
       "      <td>3</td>\n",
       "      <td>2910</td>\n",
       "      <td>9480</td>\n",
       "      <td>582</td>\n",
       "      <td>0.31</td>\n",
       "      <td>1.5</td>\n",
       "      <td>0</td>\n",
       "      <td>0</td>\n",
       "      <td>3</td>\n",
       "      <td>1939</td>\n",
       "      <td>84</td>\n",
       "      <td>1939</td>\n",
       "      <td>No</td>\n",
       "      <td>122004</td>\n",
       "      <td>1</td>\n",
       "      <td>53</td>\n",
       "      <td>1200000</td>\n",
       "      <td>412</td>\n",
       "    </tr>\n",
       "    <tr>\n",
       "      <th>2</th>\n",
       "      <td>3</td>\n",
       "      <td>2</td>\n",
       "      <td>2710</td>\n",
       "      <td>4500</td>\n",
       "      <td>903</td>\n",
       "      <td>0.60</td>\n",
       "      <td>1.5</td>\n",
       "      <td>0</td>\n",
       "      <td>0</td>\n",
       "      <td>4</td>\n",
       "      <td>1929</td>\n",
       "      <td>94</td>\n",
       "      <td>1929</td>\n",
       "      <td>No</td>\n",
       "      <td>122006</td>\n",
       "      <td>1</td>\n",
       "      <td>51</td>\n",
       "      <td>805000</td>\n",
       "      <td>297</td>\n",
       "    </tr>\n",
       "    <tr>\n",
       "      <th>3</th>\n",
       "      <td>3</td>\n",
       "      <td>3</td>\n",
       "      <td>2600</td>\n",
       "      <td>4750</td>\n",
       "      <td>866</td>\n",
       "      <td>0.55</td>\n",
       "      <td>1.0</td>\n",
       "      <td>0</td>\n",
       "      <td>0</td>\n",
       "      <td>4</td>\n",
       "      <td>1951</td>\n",
       "      <td>72</td>\n",
       "      <td>1951</td>\n",
       "      <td>No</td>\n",
       "      <td>122007</td>\n",
       "      <td>1</td>\n",
       "      <td>67</td>\n",
       "      <td>790000</td>\n",
       "      <td>303</td>\n",
       "    </tr>\n",
       "    <tr>\n",
       "      <th>4</th>\n",
       "      <td>5</td>\n",
       "      <td>4</td>\n",
       "      <td>3660</td>\n",
       "      <td>11995</td>\n",
       "      <td>732</td>\n",
       "      <td>0.31</td>\n",
       "      <td>2.0</td>\n",
       "      <td>0</td>\n",
       "      <td>2</td>\n",
       "      <td>3</td>\n",
       "      <td>2006</td>\n",
       "      <td>17</td>\n",
       "      <td>2006</td>\n",
       "      <td>No</td>\n",
       "      <td>122008</td>\n",
       "      <td>3</td>\n",
       "      <td>72</td>\n",
       "      <td>785000</td>\n",
       "      <td>214</td>\n",
       "    </tr>\n",
       "    <tr>\n",
       "      <th>...</th>\n",
       "      <td>...</td>\n",
       "      <td>...</td>\n",
       "      <td>...</td>\n",
       "      <td>...</td>\n",
       "      <td>...</td>\n",
       "      <td>...</td>\n",
       "      <td>...</td>\n",
       "      <td>...</td>\n",
       "      <td>...</td>\n",
       "      <td>...</td>\n",
       "      <td>...</td>\n",
       "      <td>...</td>\n",
       "      <td>...</td>\n",
       "      <td>...</td>\n",
       "      <td>...</td>\n",
       "      <td>...</td>\n",
       "      <td>...</td>\n",
       "      <td>...</td>\n",
       "      <td>...</td>\n",
       "    </tr>\n",
       "    <tr>\n",
       "      <th>12587</th>\n",
       "      <td>2</td>\n",
       "      <td>2</td>\n",
       "      <td>1556</td>\n",
       "      <td>20000</td>\n",
       "      <td>778</td>\n",
       "      <td>0.08</td>\n",
       "      <td>1.0</td>\n",
       "      <td>0</td>\n",
       "      <td>0</td>\n",
       "      <td>4</td>\n",
       "      <td>1957</td>\n",
       "      <td>66</td>\n",
       "      <td>1957</td>\n",
       "      <td>No</td>\n",
       "      <td>122066</td>\n",
       "      <td>3</td>\n",
       "      <td>76</td>\n",
       "      <td>221700</td>\n",
       "      <td>142</td>\n",
       "    </tr>\n",
       "    <tr>\n",
       "      <th>12588</th>\n",
       "      <td>3</td>\n",
       "      <td>2</td>\n",
       "      <td>1680</td>\n",
       "      <td>7000</td>\n",
       "      <td>560</td>\n",
       "      <td>0.24</td>\n",
       "      <td>1.5</td>\n",
       "      <td>0</td>\n",
       "      <td>0</td>\n",
       "      <td>4</td>\n",
       "      <td>1968</td>\n",
       "      <td>55</td>\n",
       "      <td>1968</td>\n",
       "      <td>No</td>\n",
       "      <td>122072</td>\n",
       "      <td>3</td>\n",
       "      <td>59</td>\n",
       "      <td>219200</td>\n",
       "      <td>130</td>\n",
       "    </tr>\n",
       "    <tr>\n",
       "      <th>12589</th>\n",
       "      <td>2</td>\n",
       "      <td>1</td>\n",
       "      <td>1070</td>\n",
       "      <td>6120</td>\n",
       "      <td>535</td>\n",
       "      <td>0.17</td>\n",
       "      <td>1.0</td>\n",
       "      <td>0</td>\n",
       "      <td>0</td>\n",
       "      <td>3</td>\n",
       "      <td>1962</td>\n",
       "      <td>61</td>\n",
       "      <td>1962</td>\n",
       "      <td>No</td>\n",
       "      <td>122056</td>\n",
       "      <td>2</td>\n",
       "      <td>64</td>\n",
       "      <td>209000</td>\n",
       "      <td>195</td>\n",
       "    </tr>\n",
       "    <tr>\n",
       "      <th>12590</th>\n",
       "      <td>4</td>\n",
       "      <td>1</td>\n",
       "      <td>1030</td>\n",
       "      <td>6621</td>\n",
       "      <td>257</td>\n",
       "      <td>0.16</td>\n",
       "      <td>1.0</td>\n",
       "      <td>0</td>\n",
       "      <td>0</td>\n",
       "      <td>4</td>\n",
       "      <td>1955</td>\n",
       "      <td>68</td>\n",
       "      <td>1955</td>\n",
       "      <td>No</td>\n",
       "      <td>122042</td>\n",
       "      <td>3</td>\n",
       "      <td>54</td>\n",
       "      <td>205000</td>\n",
       "      <td>199</td>\n",
       "    </tr>\n",
       "    <tr>\n",
       "      <th>12591</th>\n",
       "      <td>3</td>\n",
       "      <td>1</td>\n",
       "      <td>900</td>\n",
       "      <td>4770</td>\n",
       "      <td>300</td>\n",
       "      <td>0.19</td>\n",
       "      <td>1.0</td>\n",
       "      <td>0</td>\n",
       "      <td>0</td>\n",
       "      <td>3</td>\n",
       "      <td>1969</td>\n",
       "      <td>54</td>\n",
       "      <td>2009</td>\n",
       "      <td>Yes</td>\n",
       "      <td>122018</td>\n",
       "      <td>2</td>\n",
       "      <td>55</td>\n",
       "      <td>146000</td>\n",
       "      <td>162</td>\n",
       "    </tr>\n",
       "  </tbody>\n",
       "</table>\n",
       "<p>12592 rows × 19 columns</p>\n",
       "</div>"
      ],
      "text/plain": [
       "       Number of bedrooms  Number of bathrooms  Living area  Lot area  \\\n",
       "0                       4                    3         2920      4000   \n",
       "1                       5                    3         2910      9480   \n",
       "2                       3                    2         2710      4500   \n",
       "3                       3                    3         2600      4750   \n",
       "4                       5                    4         3660     11995   \n",
       "...                   ...                  ...          ...       ...   \n",
       "12587                   2                    2         1556     20000   \n",
       "12588                   3                    2         1680      7000   \n",
       "12589                   2                    1         1070      6120   \n",
       "12590                   4                    1         1030      6621   \n",
       "12591                   3                    1          900      4770   \n",
       "\n",
       "       Average Room Size  Floor Area Ratio  Number of floors  \\\n",
       "0                    730              0.73               1.5   \n",
       "1                    582              0.31               1.5   \n",
       "2                    903              0.60               1.5   \n",
       "3                    866              0.55               1.0   \n",
       "4                    732              0.31               2.0   \n",
       "...                  ...               ...               ...   \n",
       "12587                778              0.08               1.0   \n",
       "12588                560              0.24               1.5   \n",
       "12589                535              0.17               1.0   \n",
       "12590                257              0.16               1.0   \n",
       "12591                300              0.19               1.0   \n",
       "\n",
       "       Waterfront present  Average views number  Condition of the house  \\\n",
       "0                       0                     0                       5   \n",
       "1                       0                     0                       3   \n",
       "2                       0                     0                       4   \n",
       "3                       0                     0                       4   \n",
       "4                       0                     2                       3   \n",
       "...                   ...                   ...                     ...   \n",
       "12587                   0                     0                       4   \n",
       "12588                   0                     0                       4   \n",
       "12589                   0                     0                       3   \n",
       "12590                   0                     0                       4   \n",
       "12591                   0                     0                       3   \n",
       "\n",
       "       Built Year  House Age  Renovation Year Was Renovated  Postal Code  \\\n",
       "0            1909        114             1909            No       122004   \n",
       "1            1939         84             1939            No       122004   \n",
       "2            1929         94             1929            No       122006   \n",
       "3            1951         72             1951            No       122007   \n",
       "4            2006         17             2006            No       122008   \n",
       "...           ...        ...              ...           ...          ...   \n",
       "12587        1957         66             1957            No       122066   \n",
       "12588        1968         55             1968            No       122072   \n",
       "12589        1962         61             1962            No       122056   \n",
       "12590        1955         68             1955            No       122042   \n",
       "12591        1969         54             2009           Yes       122018   \n",
       "\n",
       "       Number of schools nearby  Distance from the airport    Price  \\\n",
       "0                             2                         51  1400000   \n",
       "1                             1                         53  1200000   \n",
       "2                             1                         51   805000   \n",
       "3                             1                         67   790000   \n",
       "4                             3                         72   785000   \n",
       "...                         ...                        ...      ...   \n",
       "12587                         3                         76   221700   \n",
       "12588                         3                         59   219200   \n",
       "12589                         2                         64   209000   \n",
       "12590                         3                         54   205000   \n",
       "12591                         2                         55   146000   \n",
       "\n",
       "       Price for 1 sq.foot  \n",
       "0                      479  \n",
       "1                      412  \n",
       "2                      297  \n",
       "3                      303  \n",
       "4                      214  \n",
       "...                    ...  \n",
       "12587                  142  \n",
       "12588                  130  \n",
       "12589                  195  \n",
       "12590                  199  \n",
       "12591                  162  \n",
       "\n",
       "[12592 rows x 19 columns]"
      ]
     },
     "execution_count": 317,
     "metadata": {},
     "output_type": "execute_result"
    }
   ],
   "source": [
    "df"
   ]
  },
  {
   "cell_type": "markdown",
   "id": "61bbbdc8",
   "metadata": {},
   "source": [
    "Для проверки гипотез будем использовать именно эту переменную, чтобы исключить влияние жилой площади."
   ]
  },
  {
   "cell_type": "markdown",
   "id": "58a00569",
   "metadata": {},
   "source": [
    "---"
   ]
  },
  {
   "cell_type": "markdown",
   "id": "8a84ab8b",
   "metadata": {},
   "source": [
    "## Проверка гипотез"
   ]
  },
  {
   "cell_type": "markdown",
   "id": "81bacb2b",
   "metadata": {},
   "source": [
    "### Гипотеза 1. Разброс цен на дома не зависит от города"
   ]
  },
  {
   "cell_type": "markdown",
   "id": "20e453d4",
   "metadata": {},
   "source": [
    "В прошлой части мы построили распределение средней стоимости недвижимости в зависимости от района дома (район дома мы определяем почтовым индексом). Мы нашли районы с самой высокой средней рыночной ценой, и с самой низкой. Было бы интересно проверить зависит ли разброс рыночных цен от города. Для этого сгруппируем почтовые индексы по городам, к которым они относятся."
   ]
  },
  {
   "cell_type": "markdown",
   "id": "a172643b",
   "metadata": {},
   "source": [
    "Почтовый индекс индии состоит из 6 цифр, первые две определяют определяют регион или провинцию, последние три - главный город, почтовое отделение. Наши дома находятся в одном регионе, однако в разных городах. \n",
    "\n",
    "г. Гургаон, почтовые индексы: 122003, 122004, 122005, 122006, 122007, 122008, 122009, 122010, 122011, 122012, 122015, 122016, 122017, 122018, 122021, 122022, 122050, 122051, 122052. (19)\n",
    "\n",
    "г. Нью-Дели, почтовые индексы: 122013, 122014, 122019, 122020, 122023, 122024, 122025, 122026, 122027, 122028, 122029, 122030, 122040, 122041, 122047, 122048, 122063, 122064, 122065, 122066, 122069. (21)\n",
    "\n",
    "г. Фаридабад, почтовые индексы: 122031, 122032, 122033, 122034, 122035, 122036, 122038, 122039, 122042, 122043, 122044, 122045, 122046, 122049, 122061, 122062, 122070, 122071, 122072. (19)\n",
    "\n",
    "г. Газиабад, почтовые индексы: 122037, 122053, 122054, 122055, 122056, 122057, 122058, 122059, 122060, 122067, 122068. (11)"
   ]
  },
  {
   "cell_type": "markdown",
   "id": "a2dfe22b",
   "metadata": {},
   "source": [
    " Предположим, что дисперсия стоимости 1 кв. фут. дома одинакова для всех домов Индиии, независимо от города."
   ]
  },
  {
   "cell_type": "markdown",
   "id": "ed7833ae",
   "metadata": {},
   "source": [
    "* H0: разброс цен на дома не зависит от города\n",
    "* H1: разброс цен на дома зависит от города"
   ]
  },
  {
   "cell_type": "markdown",
   "id": "908c7673",
   "metadata": {},
   "source": [
    "Будем использовать **тест Левена** и медиану для проверки гипотезы, а также нашу новую перменную."
   ]
  },
  {
   "cell_type": "code",
   "execution_count": 318,
   "id": "42956a68",
   "metadata": {},
   "outputs": [],
   "source": [
    "huragon = df.loc[df['Postal Code'].isin([122003, 122004, 122005, 122006, 122007,\n",
    "                                         122008, 122009, 122010, 122011, 122012, \n",
    "                                         122015, 122016, 122017, 122018, 122021,\n",
    "                                         122022, 122050, 122051, 122052])]['Price for 1 sq.foot']\n",
    "\n",
    "deli = df.loc[df['Postal Code'].isin([122013, 122014, 122019, 122020, 122023,\n",
    "                                      122024, 122025, 122026, 122027, 122028, \n",
    "                                      122029, 122030, 122040, 122041, 122047, \n",
    "                                      122048, 122063, 122064, 122065, 122066, 122069])]['Price for 1 sq.foot']\n",
    "\n",
    "fari = df.loc[df['Postal Code'].isin([122031, 122032, 122033, 122034, 122035, \n",
    "                                      122036, 122038, 122039, 122042, 122043, \n",
    "                                      122044, 122045, 122046, 122049, 122061,\n",
    "                                      122062, 122070, 122071, 122072])]['Price for 1 sq.foot']\n",
    "\n",
    "gazi = df.loc[df['Postal Code'].isin([122037, 122053, 122054, 122055,\n",
    "                                      122056, 122057, 122058, 122059, \n",
    "                                      122060, 122067, 122068])]['Price for 1 sq.foot']"
   ]
  },
  {
   "cell_type": "markdown",
   "id": "8966dcdc",
   "metadata": {},
   "source": [
    "Проводим тест:"
   ]
  },
  {
   "cell_type": "code",
   "execution_count": 319,
   "id": "e30f6a57",
   "metadata": {},
   "outputs": [
    {
     "name": "stdout",
     "output_type": "stream",
     "text": [
      "p-value:  1.714979681310368e-23\n",
      "Отвергаем гипотезу о равности дисперсий цен в разных городах\n"
     ]
    }
   ],
   "source": [
    "a = sts.levene(huragon, deli, fari, gazi, center = 'median')[1]\n",
    "\n",
    "print('p-value: ', a)\n",
    "\n",
    "if a < 0.05:\n",
    "    print('Отвергаем гипотезу о равности дисперсий цен в разных городах')\n",
    "else:\n",
    "    print('Не отвергаем гипотезу о равности дисперсий цен в разных городах')"
   ]
  },
  {
   "cell_type": "markdown",
   "id": "dfa275ae",
   "metadata": {},
   "source": [
    "Мы отвергаем гипотезу о том, что разброс цен во всех городах одинаковый, потому значение p-value очень маленькое. Скорее всего это связано с тем, что стоимость недвижимости, например, в Нью-Дели (один из самых дорогих городов Индии) начинается от какого-то большого значения, нежели чем в других более бедных городах."
   ]
  },
  {
   "cell_type": "markdown",
   "id": "55e3f545",
   "metadata": {},
   "source": [
    "---"
   ]
  },
  {
   "cell_type": "markdown",
   "id": "e44d6390",
   "metadata": {},
   "source": [
    "## Машинное обучение"
   ]
  },
  {
   "cell_type": "markdown",
   "id": "74ff01ba",
   "metadata": {},
   "source": [
    "Создаём машинки, предсказывающие цену недвижимости.\n",
    "\n",
    "Перед началом дропнем переменные:"
   ]
  },
  {
   "cell_type": "code",
   "execution_count": 320,
   "id": "c5610cd6",
   "metadata": {},
   "outputs": [],
   "source": [
    "df = df.drop(['Was Renovated', 'Price for 1 sq.foot'], axis = 1)"
   ]
  },
  {
   "cell_type": "code",
   "execution_count": 321,
   "id": "2de18248",
   "metadata": {
    "scrolled": true
   },
   "outputs": [
    {
     "name": "stdout",
     "output_type": "stream",
     "text": [
      "<class 'pandas.core.frame.DataFrame'>\n",
      "RangeIndex: 12592 entries, 0 to 12591\n",
      "Data columns (total 17 columns):\n",
      " #   Column                     Non-Null Count  Dtype  \n",
      "---  ------                     --------------  -----  \n",
      " 0   Number of bedrooms         12592 non-null  int64  \n",
      " 1   Number of bathrooms        12592 non-null  int64  \n",
      " 2   Living area                12592 non-null  int64  \n",
      " 3   Lot area                   12592 non-null  int64  \n",
      " 4   Average Room Size          12592 non-null  int64  \n",
      " 5   Floor Area Ratio           12592 non-null  float64\n",
      " 6   Number of floors           12592 non-null  float64\n",
      " 7   Waterfront present         12592 non-null  int64  \n",
      " 8   Average views number       12592 non-null  int64  \n",
      " 9   Condition of the house     12592 non-null  int64  \n",
      " 10  Built Year                 12592 non-null  int64  \n",
      " 11  House Age                  12592 non-null  int64  \n",
      " 12  Renovation Year            12592 non-null  int64  \n",
      " 13  Postal Code                12592 non-null  int64  \n",
      " 14  Number of schools nearby   12592 non-null  int64  \n",
      " 15  Distance from the airport  12592 non-null  int64  \n",
      " 16  Price                      12592 non-null  int64  \n",
      "dtypes: float64(2), int64(15)\n",
      "memory usage: 1.6 MB\n"
     ]
    }
   ],
   "source": [
    "df.info()"
   ]
  },
  {
   "cell_type": "code",
   "execution_count": 322,
   "id": "6c7de56a",
   "metadata": {},
   "outputs": [],
   "source": [
    "train, test = train_test_split(df, test_size = 0.2)"
   ]
  },
  {
   "cell_type": "markdown",
   "id": "fdb3ac8d",
   "metadata": {},
   "source": [
    "Разделяем данные на признаки и целевую переменную (15 признаков, последний столбец - цена):"
   ]
  },
  {
   "cell_type": "code",
   "execution_count": 323,
   "id": "a506c965",
   "metadata": {},
   "outputs": [],
   "source": [
    "x_train = train.iloc[:, :15].values\n",
    "x_test = test.iloc[:, :15].values"
   ]
  },
  {
   "cell_type": "code",
   "execution_count": 324,
   "id": "a5bf725b",
   "metadata": {},
   "outputs": [],
   "source": [
    "y_train = train['Price'].values\n",
    "y_test = test['Price'].values"
   ]
  },
  {
   "cell_type": "markdown",
   "id": "90f8f2a7",
   "metadata": {},
   "source": [
    "---"
   ]
  },
  {
   "cell_type": "markdown",
   "id": "f889a13e",
   "metadata": {},
   "source": [
    "# Линейная регрессия"
   ]
  },
  {
   "cell_type": "code",
   "execution_count": 325,
   "id": "768e70ef",
   "metadata": {},
   "outputs": [],
   "source": [
    "machine1 = LinearRegression()"
   ]
  },
  {
   "cell_type": "code",
   "execution_count": 326,
   "id": "24f34832",
   "metadata": {},
   "outputs": [
    {
     "data": {
      "text/html": [
       "<style>#sk-container-id-33 {color: black;background-color: white;}#sk-container-id-33 pre{padding: 0;}#sk-container-id-33 div.sk-toggleable {background-color: white;}#sk-container-id-33 label.sk-toggleable__label {cursor: pointer;display: block;width: 100%;margin-bottom: 0;padding: 0.3em;box-sizing: border-box;text-align: center;}#sk-container-id-33 label.sk-toggleable__label-arrow:before {content: \"▸\";float: left;margin-right: 0.25em;color: #696969;}#sk-container-id-33 label.sk-toggleable__label-arrow:hover:before {color: black;}#sk-container-id-33 div.sk-estimator:hover label.sk-toggleable__label-arrow:before {color: black;}#sk-container-id-33 div.sk-toggleable__content {max-height: 0;max-width: 0;overflow: hidden;text-align: left;background-color: #f0f8ff;}#sk-container-id-33 div.sk-toggleable__content pre {margin: 0.2em;color: black;border-radius: 0.25em;background-color: #f0f8ff;}#sk-container-id-33 input.sk-toggleable__control:checked~div.sk-toggleable__content {max-height: 200px;max-width: 100%;overflow: auto;}#sk-container-id-33 input.sk-toggleable__control:checked~label.sk-toggleable__label-arrow:before {content: \"▾\";}#sk-container-id-33 div.sk-estimator input.sk-toggleable__control:checked~label.sk-toggleable__label {background-color: #d4ebff;}#sk-container-id-33 div.sk-label input.sk-toggleable__control:checked~label.sk-toggleable__label {background-color: #d4ebff;}#sk-container-id-33 input.sk-hidden--visually {border: 0;clip: rect(1px 1px 1px 1px);clip: rect(1px, 1px, 1px, 1px);height: 1px;margin: -1px;overflow: hidden;padding: 0;position: absolute;width: 1px;}#sk-container-id-33 div.sk-estimator {font-family: monospace;background-color: #f0f8ff;border: 1px dotted black;border-radius: 0.25em;box-sizing: border-box;margin-bottom: 0.5em;}#sk-container-id-33 div.sk-estimator:hover {background-color: #d4ebff;}#sk-container-id-33 div.sk-parallel-item::after {content: \"\";width: 100%;border-bottom: 1px solid gray;flex-grow: 1;}#sk-container-id-33 div.sk-label:hover label.sk-toggleable__label {background-color: #d4ebff;}#sk-container-id-33 div.sk-serial::before {content: \"\";position: absolute;border-left: 1px solid gray;box-sizing: border-box;top: 0;bottom: 0;left: 50%;z-index: 0;}#sk-container-id-33 div.sk-serial {display: flex;flex-direction: column;align-items: center;background-color: white;padding-right: 0.2em;padding-left: 0.2em;position: relative;}#sk-container-id-33 div.sk-item {position: relative;z-index: 1;}#sk-container-id-33 div.sk-parallel {display: flex;align-items: stretch;justify-content: center;background-color: white;position: relative;}#sk-container-id-33 div.sk-item::before, #sk-container-id-33 div.sk-parallel-item::before {content: \"\";position: absolute;border-left: 1px solid gray;box-sizing: border-box;top: 0;bottom: 0;left: 50%;z-index: -1;}#sk-container-id-33 div.sk-parallel-item {display: flex;flex-direction: column;z-index: 1;position: relative;background-color: white;}#sk-container-id-33 div.sk-parallel-item:first-child::after {align-self: flex-end;width: 50%;}#sk-container-id-33 div.sk-parallel-item:last-child::after {align-self: flex-start;width: 50%;}#sk-container-id-33 div.sk-parallel-item:only-child::after {width: 0;}#sk-container-id-33 div.sk-dashed-wrapped {border: 1px dashed gray;margin: 0 0.4em 0.5em 0.4em;box-sizing: border-box;padding-bottom: 0.4em;background-color: white;}#sk-container-id-33 div.sk-label label {font-family: monospace;font-weight: bold;display: inline-block;line-height: 1.2em;}#sk-container-id-33 div.sk-label-container {text-align: center;}#sk-container-id-33 div.sk-container {/* jupyter's `normalize.less` sets `[hidden] { display: none; }` but bootstrap.min.css set `[hidden] { display: none !important; }` so we also need the `!important` here to be able to override the default hidden behavior on the sphinx rendered scikit-learn.org. See: https://github.com/scikit-learn/scikit-learn/issues/21755 */display: inline-block !important;position: relative;}#sk-container-id-33 div.sk-text-repr-fallback {display: none;}</style><div id=\"sk-container-id-33\" class=\"sk-top-container\"><div class=\"sk-text-repr-fallback\"><pre>LinearRegression()</pre><b>In a Jupyter environment, please rerun this cell to show the HTML representation or trust the notebook. <br />On GitHub, the HTML representation is unable to render, please try loading this page with nbviewer.org.</b></div><div class=\"sk-container\" hidden><div class=\"sk-item\"><div class=\"sk-estimator sk-toggleable\"><input class=\"sk-toggleable__control sk-hidden--visually\" id=\"sk-estimator-id-33\" type=\"checkbox\" checked><label for=\"sk-estimator-id-33\" class=\"sk-toggleable__label sk-toggleable__label-arrow\">LinearRegression</label><div class=\"sk-toggleable__content\"><pre>LinearRegression()</pre></div></div></div></div></div>"
      ],
      "text/plain": [
       "LinearRegression()"
      ]
     },
     "execution_count": 326,
     "metadata": {},
     "output_type": "execute_result"
    }
   ],
   "source": [
    "machine1.fit(x_train, y_train)"
   ]
  },
  {
   "cell_type": "code",
   "execution_count": 327,
   "id": "b7b3c243",
   "metadata": {},
   "outputs": [],
   "source": [
    "machine1res = machine1.predict(x_test)"
   ]
  },
  {
   "cell_type": "markdown",
   "id": "c86d4cae",
   "metadata": {},
   "source": [
    "Визуализируем:"
   ]
  },
  {
   "cell_type": "code",
   "execution_count": 328,
   "id": "b4942735",
   "metadata": {
    "scrolled": true
   },
   "outputs": [
    {
     "data": {
      "image/png": "[encoded data removed]",
      "text/plain": [
       "<Figure size 640x480 with 1 Axes>"
      ]
     },
     "metadata": {},
     "output_type": "display_data"
    }
   ],
   "source": [
    "plt.scatter(machine1res, y_test, color = 'pink')\n",
    "plt.scatter(y_test, y_test, color = 'purple')\n",
    "\n",
    "plt.title('Линейная регрессия')\n",
    "\n",
    "plt.show()"
   ]
  },
  {
   "cell_type": "code",
   "execution_count": 329,
   "id": "903e8c1e",
   "metadata": {
    "scrolled": false
   },
   "outputs": [
    {
     "name": "stdout",
     "output_type": "stream",
     "text": [
      "Средний квадрат отклонения =  29566759612.771\n",
      "Средний модуль отклонения =  123968.967\n",
      "Средний процент отклонения =  0.279\n",
      "Коэффициент детерминации =  0.573\n"
     ]
    }
   ],
   "source": [
    "print('Средний квадрат отклонения = ', round(mean_squared_error(y_test, machine1res), 3))\n",
    "print('Средний модуль отклонения = ', round(mean_absolute_error(y_test, machine1res), 3))\n",
    "print('Средний процент отклонения = ', round(mean_absolute_percentage_error(y_test, machine1res), 3))\n",
    "print('Коэффициент детерминации = ', round(r2_score(y_test, machine1res), 3))"
   ]
  },
  {
   "cell_type": "markdown",
   "id": "e7a0b24d",
   "metadata": {},
   "source": [
    "Точность - 56%"
   ]
  },
  {
   "cell_type": "markdown",
   "id": "41550e1b",
   "metadata": {},
   "source": [
    "---"
   ]
  },
  {
   "cell_type": "markdown",
   "id": "1d228815",
   "metadata": {},
   "source": [
    "## Decision Tree Regressor"
   ]
  },
  {
   "cell_type": "code",
   "execution_count": 330,
   "id": "13f669ca",
   "metadata": {},
   "outputs": [],
   "source": [
    "machine2 = DecisionTreeRegressor()"
   ]
  },
  {
   "cell_type": "code",
   "execution_count": 331,
   "id": "9717bf41",
   "metadata": {},
   "outputs": [
    {
     "data": {
      "text/html": [
       "<style>#sk-container-id-34 {color: black;background-color: white;}#sk-container-id-34 pre{padding: 0;}#sk-container-id-34 div.sk-toggleable {background-color: white;}#sk-container-id-34 label.sk-toggleable__label {cursor: pointer;display: block;width: 100%;margin-bottom: 0;padding: 0.3em;box-sizing: border-box;text-align: center;}#sk-container-id-34 label.sk-toggleable__label-arrow:before {content: \"▸\";float: left;margin-right: 0.25em;color: #696969;}#sk-container-id-34 label.sk-toggleable__label-arrow:hover:before {color: black;}#sk-container-id-34 div.sk-estimator:hover label.sk-toggleable__label-arrow:before {color: black;}#sk-container-id-34 div.sk-toggleable__content {max-height: 0;max-width: 0;overflow: hidden;text-align: left;background-color: #f0f8ff;}#sk-container-id-34 div.sk-toggleable__content pre {margin: 0.2em;color: black;border-radius: 0.25em;background-color: #f0f8ff;}#sk-container-id-34 input.sk-toggleable__control:checked~div.sk-toggleable__content {max-height: 200px;max-width: 100%;overflow: auto;}#sk-container-id-34 input.sk-toggleable__control:checked~label.sk-toggleable__label-arrow:before {content: \"▾\";}#sk-container-id-34 div.sk-estimator input.sk-toggleable__control:checked~label.sk-toggleable__label {background-color: #d4ebff;}#sk-container-id-34 div.sk-label input.sk-toggleable__control:checked~label.sk-toggleable__label {background-color: #d4ebff;}#sk-container-id-34 input.sk-hidden--visually {border: 0;clip: rect(1px 1px 1px 1px);clip: rect(1px, 1px, 1px, 1px);height: 1px;margin: -1px;overflow: hidden;padding: 0;position: absolute;width: 1px;}#sk-container-id-34 div.sk-estimator {font-family: monospace;background-color: #f0f8ff;border: 1px dotted black;border-radius: 0.25em;box-sizing: border-box;margin-bottom: 0.5em;}#sk-container-id-34 div.sk-estimator:hover {background-color: #d4ebff;}#sk-container-id-34 div.sk-parallel-item::after {content: \"\";width: 100%;border-bottom: 1px solid gray;flex-grow: 1;}#sk-container-id-34 div.sk-label:hover label.sk-toggleable__label {background-color: #d4ebff;}#sk-container-id-34 div.sk-serial::before {content: \"\";position: absolute;border-left: 1px solid gray;box-sizing: border-box;top: 0;bottom: 0;left: 50%;z-index: 0;}#sk-container-id-34 div.sk-serial {display: flex;flex-direction: column;align-items: center;background-color: white;padding-right: 0.2em;padding-left: 0.2em;position: relative;}#sk-container-id-34 div.sk-item {position: relative;z-index: 1;}#sk-container-id-34 div.sk-parallel {display: flex;align-items: stretch;justify-content: center;background-color: white;position: relative;}#sk-container-id-34 div.sk-item::before, #sk-container-id-34 div.sk-parallel-item::before {content: \"\";position: absolute;border-left: 1px solid gray;box-sizing: border-box;top: 0;bottom: 0;left: 50%;z-index: -1;}#sk-container-id-34 div.sk-parallel-item {display: flex;flex-direction: column;z-index: 1;position: relative;background-color: white;}#sk-container-id-34 div.sk-parallel-item:first-child::after {align-self: flex-end;width: 50%;}#sk-container-id-34 div.sk-parallel-item:last-child::after {align-self: flex-start;width: 50%;}#sk-container-id-34 div.sk-parallel-item:only-child::after {width: 0;}#sk-container-id-34 div.sk-dashed-wrapped {border: 1px dashed gray;margin: 0 0.4em 0.5em 0.4em;box-sizing: border-box;padding-bottom: 0.4em;background-color: white;}#sk-container-id-34 div.sk-label label {font-family: monospace;font-weight: bold;display: inline-block;line-height: 1.2em;}#sk-container-id-34 div.sk-label-container {text-align: center;}#sk-container-id-34 div.sk-container {/* jupyter's `normalize.less` sets `[hidden] { display: none; }` but bootstrap.min.css set `[hidden] { display: none !important; }` so we also need the `!important` here to be able to override the default hidden behavior on the sphinx rendered scikit-learn.org. See: https://github.com/scikit-learn/scikit-learn/issues/21755 */display: inline-block !important;position: relative;}#sk-container-id-34 div.sk-text-repr-fallback {display: none;}</style><div id=\"sk-container-id-34\" class=\"sk-top-container\"><div class=\"sk-text-repr-fallback\"><pre>DecisionTreeRegressor()</pre><b>In a Jupyter environment, please rerun this cell to show the HTML representation or trust the notebook. <br />On GitHub, the HTML representation is unable to render, please try loading this page with nbviewer.org.</b></div><div class=\"sk-container\" hidden><div class=\"sk-item\"><div class=\"sk-estimator sk-toggleable\"><input class=\"sk-toggleable__control sk-hidden--visually\" id=\"sk-estimator-id-34\" type=\"checkbox\" checked><label for=\"sk-estimator-id-34\" class=\"sk-toggleable__label sk-toggleable__label-arrow\">DecisionTreeRegressor</label><div class=\"sk-toggleable__content\"><pre>DecisionTreeRegressor()</pre></div></div></div></div></div>"
      ],
      "text/plain": [
       "DecisionTreeRegressor()"
      ]
     },
     "execution_count": 331,
     "metadata": {},
     "output_type": "execute_result"
    }
   ],
   "source": [
    "machine2.fit(x_train, y_train)"
   ]
  },
  {
   "cell_type": "code",
   "execution_count": 332,
   "id": "01ab9a2d",
   "metadata": {},
   "outputs": [],
   "source": [
    "machine2res = machine2.predict(x_test)"
   ]
  },
  {
   "cell_type": "markdown",
   "id": "4a61626a",
   "metadata": {},
   "source": [
    "Визуализируем:"
   ]
  },
  {
   "cell_type": "code",
   "execution_count": 333,
   "id": "0e1902ef",
   "metadata": {},
   "outputs": [
    {
     "data": {
      "image/png": "[encoded data removed]",
      "text/plain": [
       "<Figure size 640x480 with 1 Axes>"
      ]
     },
     "metadata": {},
     "output_type": "display_data"
    }
   ],
   "source": [
    "plt.scatter(machine2res, y_test, color = 'pink')\n",
    "plt.scatter(y_test, y_test, color = 'purple')\n",
    "\n",
    "plt.title(\"DecisionTreeRegressor\")\n",
    "\n",
    "plt.show()"
   ]
  },
  {
   "cell_type": "code",
   "execution_count": 334,
   "id": "be71cc63",
   "metadata": {
    "scrolled": true
   },
   "outputs": [
    {
     "name": "stdout",
     "output_type": "stream",
     "text": [
      "Средний квадрат отклонения =  30650826452.845\n",
      "Средний модуль отклонения =  106486.647\n",
      "Средний процент отклонения =  0.219\n",
      "Коэффициент детерминации =  0.557\n"
     ]
    }
   ],
   "source": [
    "print('Средний квадрат отклонения = ', round(mean_squared_error(y_test, machine2res), 3))\n",
    "print('Средний модуль отклонения = ', round(mean_absolute_error(y_test, machine2res), 3))\n",
    "print('Средний процент отклонения = ', round(mean_absolute_percentage_error(y_test, machine2res), 3))\n",
    "print('Коэффициент детерминации = ', round(r2_score(y_test, machine2res), 3))"
   ]
  },
  {
   "cell_type": "markdown",
   "id": "f4194b0f",
   "metadata": {},
   "source": [
    "Точность - 55%"
   ]
  },
  {
   "cell_type": "markdown",
   "id": "cd95225c",
   "metadata": {},
   "source": [
    "---"
   ]
  },
  {
   "cell_type": "markdown",
   "id": "aaa2c563",
   "metadata": {},
   "source": [
    "## XGBRF Regressor"
   ]
  },
  {
   "cell_type": "code",
   "execution_count": 335,
   "id": "1f13d74f",
   "metadata": {},
   "outputs": [],
   "source": [
    "machine3 = XGBRFRegressor()"
   ]
  },
  {
   "cell_type": "code",
   "execution_count": 336,
   "id": "9ba228df",
   "metadata": {},
   "outputs": [
    {
     "data": {
      "text/html": [
       "<style>#sk-container-id-35 {color: black;background-color: white;}#sk-container-id-35 pre{padding: 0;}#sk-container-id-35 div.sk-toggleable {background-color: white;}#sk-container-id-35 label.sk-toggleable__label {cursor: pointer;display: block;width: 100%;margin-bottom: 0;padding: 0.3em;box-sizing: border-box;text-align: center;}#sk-container-id-35 label.sk-toggleable__label-arrow:before {content: \"▸\";float: left;margin-right: 0.25em;color: #696969;}#sk-container-id-35 label.sk-toggleable__label-arrow:hover:before {color: black;}#sk-container-id-35 div.sk-estimator:hover label.sk-toggleable__label-arrow:before {color: black;}#sk-container-id-35 div.sk-toggleable__content {max-height: 0;max-width: 0;overflow: hidden;text-align: left;background-color: #f0f8ff;}#sk-container-id-35 div.sk-toggleable__content pre {margin: 0.2em;color: black;border-radius: 0.25em;background-color: #f0f8ff;}#sk-container-id-35 input.sk-toggleable__control:checked~div.sk-toggleable__content {max-height: 200px;max-width: 100%;overflow: auto;}#sk-container-id-35 input.sk-toggleable__control:checked~label.sk-toggleable__label-arrow:before {content: \"▾\";}#sk-container-id-35 div.sk-estimator input.sk-toggleable__control:checked~label.sk-toggleable__label {background-color: #d4ebff;}#sk-container-id-35 div.sk-label input.sk-toggleable__control:checked~label.sk-toggleable__label {background-color: #d4ebff;}#sk-container-id-35 input.sk-hidden--visually {border: 0;clip: rect(1px 1px 1px 1px);clip: rect(1px, 1px, 1px, 1px);height: 1px;margin: -1px;overflow: hidden;padding: 0;position: absolute;width: 1px;}#sk-container-id-35 div.sk-estimator {font-family: monospace;background-color: #f0f8ff;border: 1px dotted black;border-radius: 0.25em;box-sizing: border-box;margin-bottom: 0.5em;}#sk-container-id-35 div.sk-estimator:hover {background-color: #d4ebff;}#sk-container-id-35 div.sk-parallel-item::after {content: \"\";width: 100%;border-bottom: 1px solid gray;flex-grow: 1;}#sk-container-id-35 div.sk-label:hover label.sk-toggleable__label {background-color: #d4ebff;}#sk-container-id-35 div.sk-serial::before {content: \"\";position: absolute;border-left: 1px solid gray;box-sizing: border-box;top: 0;bottom: 0;left: 50%;z-index: 0;}#sk-container-id-35 div.sk-serial {display: flex;flex-direction: column;align-items: center;background-color: white;padding-right: 0.2em;padding-left: 0.2em;position: relative;}#sk-container-id-35 div.sk-item {position: relative;z-index: 1;}#sk-container-id-35 div.sk-parallel {display: flex;align-items: stretch;justify-content: center;background-color: white;position: relative;}#sk-container-id-35 div.sk-item::before, #sk-container-id-35 div.sk-parallel-item::before {content: \"\";position: absolute;border-left: 1px solid gray;box-sizing: border-box;top: 0;bottom: 0;left: 50%;z-index: -1;}#sk-container-id-35 div.sk-parallel-item {display: flex;flex-direction: column;z-index: 1;position: relative;background-color: white;}#sk-container-id-35 div.sk-parallel-item:first-child::after {align-self: flex-end;width: 50%;}#sk-container-id-35 div.sk-parallel-item:last-child::after {align-self: flex-start;width: 50%;}#sk-container-id-35 div.sk-parallel-item:only-child::after {width: 0;}#sk-container-id-35 div.sk-dashed-wrapped {border: 1px dashed gray;margin: 0 0.4em 0.5em 0.4em;box-sizing: border-box;padding-bottom: 0.4em;background-color: white;}#sk-container-id-35 div.sk-label label {font-family: monospace;font-weight: bold;display: inline-block;line-height: 1.2em;}#sk-container-id-35 div.sk-label-container {text-align: center;}#sk-container-id-35 div.sk-container {/* jupyter's `normalize.less` sets `[hidden] { display: none; }` but bootstrap.min.css set `[hidden] { display: none !important; }` so we also need the `!important` here to be able to override the default hidden behavior on the sphinx rendered scikit-learn.org. See: https://github.com/scikit-learn/scikit-learn/issues/21755 */display: inline-block !important;position: relative;}#sk-container-id-35 div.sk-text-repr-fallback {display: none;}</style><div id=\"sk-container-id-35\" class=\"sk-top-container\"><div class=\"sk-text-repr-fallback\"><pre>XGBRFRegressor(base_score=None, booster=None, callbacks=None,\n",
       "               colsample_bylevel=None, colsample_bytree=None,\n",
       "               early_stopping_rounds=None, enable_categorical=False,\n",
       "               eval_metric=None, feature_types=None, gamma=None, gpu_id=None,\n",
       "               grow_policy=None, importance_type=None,\n",
       "               interaction_constraints=None, max_bin=None,\n",
       "               max_cat_threshold=None, max_cat_to_onehot=None,\n",
       "               max_delta_step=None, max_depth=None, max_leaves=None,\n",
       "               min_child_weight=None, missing=nan, monotone_constraints=None,\n",
       "               n_estimators=100, n_jobs=None, num_parallel_tree=None,\n",
       "               objective=&#x27;reg:squarederror&#x27;, predictor=None, random_state=None,\n",
       "               reg_alpha=None, ...)</pre><b>In a Jupyter environment, please rerun this cell to show the HTML representation or trust the notebook. <br />On GitHub, the HTML representation is unable to render, please try loading this page with nbviewer.org.</b></div><div class=\"sk-container\" hidden><div class=\"sk-item\"><div class=\"sk-estimator sk-toggleable\"><input class=\"sk-toggleable__control sk-hidden--visually\" id=\"sk-estimator-id-35\" type=\"checkbox\" checked><label for=\"sk-estimator-id-35\" class=\"sk-toggleable__label sk-toggleable__label-arrow\">XGBRFRegressor</label><div class=\"sk-toggleable__content\"><pre>XGBRFRegressor(base_score=None, booster=None, callbacks=None,\n",
       "               colsample_bylevel=None, colsample_bytree=None,\n",
       "               early_stopping_rounds=None, enable_categorical=False,\n",
       "               eval_metric=None, feature_types=None, gamma=None, gpu_id=None,\n",
       "               grow_policy=None, importance_type=None,\n",
       "               interaction_constraints=None, max_bin=None,\n",
       "               max_cat_threshold=None, max_cat_to_onehot=None,\n",
       "               max_delta_step=None, max_depth=None, max_leaves=None,\n",
       "               min_child_weight=None, missing=nan, monotone_constraints=None,\n",
       "               n_estimators=100, n_jobs=None, num_parallel_tree=None,\n",
       "               objective=&#x27;reg:squarederror&#x27;, predictor=None, random_state=None,\n",
       "               reg_alpha=None, ...)</pre></div></div></div></div></div>"
      ],
      "text/plain": [
       "XGBRFRegressor(base_score=None, booster=None, callbacks=None,\n",
       "               colsample_bylevel=None, colsample_bytree=None,\n",
       "               early_stopping_rounds=None, enable_categorical=False,\n",
       "               eval_metric=None, feature_types=None, gamma=None, gpu_id=None,\n",
       "               grow_policy=None, importance_type=None,\n",
       "               interaction_constraints=None, max_bin=None,\n",
       "               max_cat_threshold=None, max_cat_to_onehot=None,\n",
       "               max_delta_step=None, max_depth=None, max_leaves=None,\n",
       "               min_child_weight=None, missing=nan, monotone_constraints=None,\n",
       "               n_estimators=100, n_jobs=None, num_parallel_tree=None,\n",
       "               objective='reg:squarederror', predictor=None, random_state=None,\n",
       "               reg_alpha=None, ...)"
      ]
     },
     "execution_count": 336,
     "metadata": {},
     "output_type": "execute_result"
    }
   ],
   "source": [
    "machine3.fit(x_train, y_train)"
   ]
  },
  {
   "cell_type": "code",
   "execution_count": 337,
   "id": "4462ceb6",
   "metadata": {},
   "outputs": [],
   "source": [
    "machine3res = machine3.predict(x_test)"
   ]
  },
  {
   "cell_type": "code",
   "execution_count": 338,
   "id": "473e5a15",
   "metadata": {},
   "outputs": [
    {
     "data": {
      "image/png": "[encoded data removed]",
      "text/plain": [
       "<Figure size 640x480 with 1 Axes>"
      ]
     },
     "metadata": {},
     "output_type": "display_data"
    }
   ],
   "source": [
    "plt.scatter(machine3res, y_test, color = 'pink')\n",
    "plt.scatter(y_test, y_test, color = 'purple')\n",
    "\n",
    "plt.title(\"XGBRFRegressor\")\n",
    "\n",
    "plt.show()"
   ]
  },
  {
   "cell_type": "code",
   "execution_count": 339,
   "id": "a5e63a35",
   "metadata": {
    "scrolled": true
   },
   "outputs": [
    {
     "name": "stdout",
     "output_type": "stream",
     "text": [
      "Средний квадрат отклонения =  28270677981.277\n",
      "Средний модуль отклонения =  118604.966\n",
      "Средний процент отклонения =  0.264\n",
      "Коэффициент детерминации =  0.592\n"
     ]
    }
   ],
   "source": [
    "print('Средний квадрат отклонения = ', round(mean_squared_error(y_test, machine3res), 3))\n",
    "print('Средний модуль отклонения = ', round(mean_absolute_error(y_test, machine3res), 3))\n",
    "print('Средний процент отклонения = ', round(mean_absolute_percentage_error(y_test, machine3res), 3))\n",
    "print('Коэффициент детерминации = ', round(r2_score(y_test, machine3res), 3))"
   ]
  },
  {
   "cell_type": "markdown",
   "id": "8c8be75d",
   "metadata": {},
   "source": [
    "Точность - 58%"
   ]
  },
  {
   "cell_type": "markdown",
   "id": "524cffdd",
   "metadata": {},
   "source": [
    "---"
   ]
  },
  {
   "cell_type": "markdown",
   "id": "7504f633",
   "metadata": {},
   "source": [
    "## XGB Regressor"
   ]
  },
  {
   "cell_type": "code",
   "execution_count": 340,
   "id": "b5837539",
   "metadata": {
    "scrolled": true
   },
   "outputs": [],
   "source": [
    "machine4 = XGBRegressor()"
   ]
  },
  {
   "cell_type": "code",
   "execution_count": 341,
   "id": "73fe36fe",
   "metadata": {},
   "outputs": [
    {
     "data": {
      "text/html": [
       "<style>#sk-container-id-36 {color: black;background-color: white;}#sk-container-id-36 pre{padding: 0;}#sk-container-id-36 div.sk-toggleable {background-color: white;}#sk-container-id-36 label.sk-toggleable__label {cursor: pointer;display: block;width: 100%;margin-bottom: 0;padding: 0.3em;box-sizing: border-box;text-align: center;}#sk-container-id-36 label.sk-toggleable__label-arrow:before {content: \"▸\";float: left;margin-right: 0.25em;color: #696969;}#sk-container-id-36 label.sk-toggleable__label-arrow:hover:before {color: black;}#sk-container-id-36 div.sk-estimator:hover label.sk-toggleable__label-arrow:before {color: black;}#sk-container-id-36 div.sk-toggleable__content {max-height: 0;max-width: 0;overflow: hidden;text-align: left;background-color: #f0f8ff;}#sk-container-id-36 div.sk-toggleable__content pre {margin: 0.2em;color: black;border-radius: 0.25em;background-color: #f0f8ff;}#sk-container-id-36 input.sk-toggleable__control:checked~div.sk-toggleable__content {max-height: 200px;max-width: 100%;overflow: auto;}#sk-container-id-36 input.sk-toggleable__control:checked~label.sk-toggleable__label-arrow:before {content: \"▾\";}#sk-container-id-36 div.sk-estimator input.sk-toggleable__control:checked~label.sk-toggleable__label {background-color: #d4ebff;}#sk-container-id-36 div.sk-label input.sk-toggleable__control:checked~label.sk-toggleable__label {background-color: #d4ebff;}#sk-container-id-36 input.sk-hidden--visually {border: 0;clip: rect(1px 1px 1px 1px);clip: rect(1px, 1px, 1px, 1px);height: 1px;margin: -1px;overflow: hidden;padding: 0;position: absolute;width: 1px;}#sk-container-id-36 div.sk-estimator {font-family: monospace;background-color: #f0f8ff;border: 1px dotted black;border-radius: 0.25em;box-sizing: border-box;margin-bottom: 0.5em;}#sk-container-id-36 div.sk-estimator:hover {background-color: #d4ebff;}#sk-container-id-36 div.sk-parallel-item::after {content: \"\";width: 100%;border-bottom: 1px solid gray;flex-grow: 1;}#sk-container-id-36 div.sk-label:hover label.sk-toggleable__label {background-color: #d4ebff;}#sk-container-id-36 div.sk-serial::before {content: \"\";position: absolute;border-left: 1px solid gray;box-sizing: border-box;top: 0;bottom: 0;left: 50%;z-index: 0;}#sk-container-id-36 div.sk-serial {display: flex;flex-direction: column;align-items: center;background-color: white;padding-right: 0.2em;padding-left: 0.2em;position: relative;}#sk-container-id-36 div.sk-item {position: relative;z-index: 1;}#sk-container-id-36 div.sk-parallel {display: flex;align-items: stretch;justify-content: center;background-color: white;position: relative;}#sk-container-id-36 div.sk-item::before, #sk-container-id-36 div.sk-parallel-item::before {content: \"\";position: absolute;border-left: 1px solid gray;box-sizing: border-box;top: 0;bottom: 0;left: 50%;z-index: -1;}#sk-container-id-36 div.sk-parallel-item {display: flex;flex-direction: column;z-index: 1;position: relative;background-color: white;}#sk-container-id-36 div.sk-parallel-item:first-child::after {align-self: flex-end;width: 50%;}#sk-container-id-36 div.sk-parallel-item:last-child::after {align-self: flex-start;width: 50%;}#sk-container-id-36 div.sk-parallel-item:only-child::after {width: 0;}#sk-container-id-36 div.sk-dashed-wrapped {border: 1px dashed gray;margin: 0 0.4em 0.5em 0.4em;box-sizing: border-box;padding-bottom: 0.4em;background-color: white;}#sk-container-id-36 div.sk-label label {font-family: monospace;font-weight: bold;display: inline-block;line-height: 1.2em;}#sk-container-id-36 div.sk-label-container {text-align: center;}#sk-container-id-36 div.sk-container {/* jupyter's `normalize.less` sets `[hidden] { display: none; }` but bootstrap.min.css set `[hidden] { display: none !important; }` so we also need the `!important` here to be able to override the default hidden behavior on the sphinx rendered scikit-learn.org. See: https://github.com/scikit-learn/scikit-learn/issues/21755 */display: inline-block !important;position: relative;}#sk-container-id-36 div.sk-text-repr-fallback {display: none;}</style><div id=\"sk-container-id-36\" class=\"sk-top-container\"><div class=\"sk-text-repr-fallback\"><pre>XGBRegressor(base_score=None, booster=None, callbacks=None,\n",
       "             colsample_bylevel=None, colsample_bynode=None,\n",
       "             colsample_bytree=None, early_stopping_rounds=None,\n",
       "             enable_categorical=False, eval_metric=None, feature_types=None,\n",
       "             gamma=None, gpu_id=None, grow_policy=None, importance_type=None,\n",
       "             interaction_constraints=None, learning_rate=None, max_bin=None,\n",
       "             max_cat_threshold=None, max_cat_to_onehot=None,\n",
       "             max_delta_step=None, max_depth=None, max_leaves=None,\n",
       "             min_child_weight=None, missing=nan, monotone_constraints=None,\n",
       "             n_estimators=100, n_jobs=None, num_parallel_tree=None,\n",
       "             predictor=None, random_state=None, ...)</pre><b>In a Jupyter environment, please rerun this cell to show the HTML representation or trust the notebook. <br />On GitHub, the HTML representation is unable to render, please try loading this page with nbviewer.org.</b></div><div class=\"sk-container\" hidden><div class=\"sk-item\"><div class=\"sk-estimator sk-toggleable\"><input class=\"sk-toggleable__control sk-hidden--visually\" id=\"sk-estimator-id-36\" type=\"checkbox\" checked><label for=\"sk-estimator-id-36\" class=\"sk-toggleable__label sk-toggleable__label-arrow\">XGBRegressor</label><div class=\"sk-toggleable__content\"><pre>XGBRegressor(base_score=None, booster=None, callbacks=None,\n",
       "             colsample_bylevel=None, colsample_bynode=None,\n",
       "             colsample_bytree=None, early_stopping_rounds=None,\n",
       "             enable_categorical=False, eval_metric=None, feature_types=None,\n",
       "             gamma=None, gpu_id=None, grow_policy=None, importance_type=None,\n",
       "             interaction_constraints=None, learning_rate=None, max_bin=None,\n",
       "             max_cat_threshold=None, max_cat_to_onehot=None,\n",
       "             max_delta_step=None, max_depth=None, max_leaves=None,\n",
       "             min_child_weight=None, missing=nan, monotone_constraints=None,\n",
       "             n_estimators=100, n_jobs=None, num_parallel_tree=None,\n",
       "             predictor=None, random_state=None, ...)</pre></div></div></div></div></div>"
      ],
      "text/plain": [
       "XGBRegressor(base_score=None, booster=None, callbacks=None,\n",
       "             colsample_bylevel=None, colsample_bynode=None,\n",
       "             colsample_bytree=None, early_stopping_rounds=None,\n",
       "             enable_categorical=False, eval_metric=None, feature_types=None,\n",
       "             gamma=None, gpu_id=None, grow_policy=None, importance_type=None,\n",
       "             interaction_constraints=None, learning_rate=None, max_bin=None,\n",
       "             max_cat_threshold=None, max_cat_to_onehot=None,\n",
       "             max_delta_step=None, max_depth=None, max_leaves=None,\n",
       "             min_child_weight=None, missing=nan, monotone_constraints=None,\n",
       "             n_estimators=100, n_jobs=None, num_parallel_tree=None,\n",
       "             predictor=None, random_state=None, ...)"
      ]
     },
     "execution_count": 341,
     "metadata": {},
     "output_type": "execute_result"
    }
   ],
   "source": [
    "machine4.fit(x_train, y_train)"
   ]
  },
  {
   "cell_type": "code",
   "execution_count": 342,
   "id": "9b551eea",
   "metadata": {},
   "outputs": [],
   "source": [
    "machine4res = machine4.predict(x_test)"
   ]
  },
  {
   "cell_type": "markdown",
   "id": "a1d97159",
   "metadata": {},
   "source": [
    "Визуализируем:"
   ]
  },
  {
   "cell_type": "code",
   "execution_count": 343,
   "id": "5626b60c",
   "metadata": {},
   "outputs": [
    {
     "data": {
      "image/png": "[encoded data removed]",
      "text/plain": [
       "<Figure size 640x480 with 1 Axes>"
      ]
     },
     "metadata": {},
     "output_type": "display_data"
    }
   ],
   "source": [
    "plt.scatter(machine4res, y_test, color = 'pink')\n",
    "plt.scatter(y_test, y_test, color = 'purple')\n",
    "\n",
    "plt.title(\"XGBRegressor\")\n",
    "\n",
    "plt.show()"
   ]
  },
  {
   "cell_type": "code",
   "execution_count": 344,
   "id": "d97b8ba3",
   "metadata": {
    "scrolled": true
   },
   "outputs": [
    {
     "name": "stdout",
     "output_type": "stream",
     "text": [
      "Средний квадрат отклонения =  11830370275.254\n",
      "Средний модуль отклонения =  71218.399\n",
      "Средний процент отклонения =  0.146\n",
      "Коэффициент детерминации =  0.829\n"
     ]
    }
   ],
   "source": [
    "print('Средний квадрат отклонения = ', round(mean_squared_error(y_test, machine4res), 3))\n",
    "print('Средний модуль отклонения = ', round(mean_absolute_error(y_test, machine4res), 3))\n",
    "print('Средний процент отклонения = ', round(mean_absolute_percentage_error(y_test, machine4res), 3))\n",
    "print('Коэффициент детерминации = ', round(r2_score(y_test, machine4res), 3))"
   ]
  },
  {
   "cell_type": "markdown",
   "id": "301fe47c",
   "metadata": {},
   "source": [
    "Точность - 83%"
   ]
  },
  {
   "cell_type": "markdown",
   "id": "daec51c2",
   "metadata": {},
   "source": [
    "---"
   ]
  },
  {
   "cell_type": "markdown",
   "id": "b677b290",
   "metadata": {},
   "source": [
    "###### done by meow_lin"
   ]
  }
 ],
 "metadata": {
  "kernelspec": {
   "display_name": "Python 3 (ipykernel)",
   "language": "python",
   "name": "python3"
  },
  "language_info": {
   "codemirror_mode": {
    "name": "ipython",
    "version": 3
   },
   "file_extension": ".py",
   "mimetype": "text/x-python",
   "name": "python",
   "nbconvert_exporter": "python",
   "pygments_lexer": "ipython3",
   "version": "3.9.7"
  }
 },
 "nbformat": 4,
 "nbformat_minor": 5
}
